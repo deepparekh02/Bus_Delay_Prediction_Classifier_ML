{
 "cells": [
  {
   "cell_type": "markdown",
   "metadata": {},
   "source": [
    "#### This file imports, processess and models a predictive Toronto Bus Delay Classifier"
   ]
  },
  {
   "cell_type": "markdown",
   "metadata": {},
   "source": [
    "### Library Imports"
   ]
  },
  {
   "cell_type": "code",
   "execution_count": 2,
   "metadata": {},
   "outputs": [],
   "source": [
    "import pandas as pd\n",
    "import numpy as np\n",
    "import sklearn as sk\n",
    "import datetime as dt\n",
    "from time import strftime\n",
    "from sklearn.model_selection import cross_val_score, train_test_split, KFold\n",
    "from sklearn.preprocessing import MinMaxScaler\n",
    "from sklearn.ensemble import RandomForestClassifier\n",
    "from sklearn.metrics import confusion_matrix, classification_report, roc_auc_score, ConfusionMatrixDisplay\n",
    "import pickle\n",
    "import matplotlib, matplotlib_inline\n"
   ]
  },
  {
   "cell_type": "markdown",
   "metadata": {},
   "source": [
    "### Dataset Import, Cleaning and Merging"
   ]
  },
  {
   "cell_type": "code",
   "execution_count": 3,
   "metadata": {},
   "outputs": [],
   "source": [
    "# importing datasets. Using last 3 years data for relevancy and data inconsistency with earlier datasets\n",
    "delay_22 = pd.read_excel(\"ttc-bus-delay-data-2022.xlsx\", header=0)\n",
    "delay_21 = pd.read_excel(\"ttc-bus-delay-data-2021.xlsx\", sheet_name=None, header=0)\n",
    "# delay_20 = pd.read_excel(\"ttc-bus-delay-data-2020.xlsx\", sheet_name=None, header=0 )\n"
   ]
  },
  {
   "cell_type": "code",
   "execution_count": 4,
   "metadata": {},
   "outputs": [],
   "source": [
    "# dropping erroneous columns\n",
    "delay_21['Dec 21'].drop(columns='Unnamed: 10', inplace=True)"
   ]
  },
  {
   "cell_type": "code",
   "execution_count": 5,
   "metadata": {},
   "outputs": [],
   "source": [
    "# setting all columns names to be the same\n",
    "columnNames = delay_22.columns.to_list()\n",
    "for key in delay_21:\n",
    "    delay_21[key].columns = columnNames\n",
    "# for key in delay_20:\n",
    "    # delay_20[key].columns = columnNames"
   ]
  },
  {
   "cell_type": "code",
   "execution_count": 6,
   "metadata": {},
   "outputs": [],
   "source": [
    "# concatenating dictionary into single dataframes\n",
    "delay_21 = pd.concat(delay_21, ignore_index=True)\n",
    "# delay_20 = pd.concat(delay_20, ignore_index=True)\n",
    "# merging into one dataset\n",
    "master_df = pd.concat([delay_21, delay_22], ignore_index=True)"
   ]
  },
  {
   "cell_type": "code",
   "execution_count": 7,
   "metadata": {},
   "outputs": [],
   "source": [
    "# dropping rows with NA's and duplicates\n",
    "master_df.dropna(inplace=True)\n",
    "master_df.drop_duplicates(keep=\"last\", inplace=True)"
   ]
  },
  {
   "cell_type": "markdown",
   "metadata": {},
   "source": [
    "### Feature Engineering"
   ]
  },
  {
   "cell_type": "code",
   "execution_count": 8,
   "metadata": {},
   "outputs": [],
   "source": [
    "# transforming the date field into month and day\n",
    "master_df['Date - Month'] = master_df['Date'].dt.month\n",
    "master_df['Date - Day Number'] = master_df['Date'].dt.day\n",
    "# Something wrong with the format of time feature - could fix if had more time\n",
    "master_df.drop(columns=['Date', 'Time'], axis=1, inplace=True)\n",
    "# master_df['Date - Year'] = master_df['Date'].dt.year\n",
    "# dropped vehicles since very sparse feature\n",
    "master_df.drop(columns=[\"Vehicle\"], inplace=True, axis=1)"
   ]
  },
  {
   "cell_type": "code",
   "execution_count": 9,
   "metadata": {},
   "outputs": [],
   "source": [
    "# Transforming target variable into categorical variable\n",
    "# 0 = 0-5 mins, 1 = 6-10 minutes, 2 = 10-20 minutes, 3 = 21-40 minutes, 4 = 40+ minutes\n",
    "# chose these classes after checking spread of data\n",
    "master_df['Delay (mins)'] = master_df['Min Delay'].apply(lambda x: 0 if (x <=5) else 1 if (6 < x <= 10) else 2 if (10 < x <= 20) else 3 if (21 < x <= 40) else 4)\n",
    "master_df.drop(columns=['Min Delay'], inplace=True)"
   ]
  },
  {
   "cell_type": "markdown",
   "metadata": {},
   "source": [
    "### Preprocessing Data for Modelling"
   ]
  },
  {
   "cell_type": "code",
   "execution_count": 11,
   "metadata": {},
   "outputs": [],
   "source": [
    "CATEGORICAL_VARIABLES = ['Route', 'Day', 'Location', 'Incident', 'Direction', 'Date - Month', 'Date - Day Number']\n",
    "# one hot encoded categorical variables\n",
    "processed_df = pd.get_dummies(master_df[CATEGORICAL_VARIABLES])\n",
    "# added other features to processed_df\n",
    "processed_df['Gap (Mins)'] = master_df['Gap (Mins)']\n",
    "processed_df['Delay (Mins)'] = master_df['Delay (mins)']"
   ]
  },
  {
   "cell_type": "markdown",
   "metadata": {},
   "source": [
    "### Model Training"
   ]
  },
  {
   "cell_type": "code",
   "execution_count": 12,
   "metadata": {},
   "outputs": [],
   "source": [
    "# separating test set completely\n",
    "train_set, test_set = train_test_split(processed_df, test_size=0.2)\n",
    "# splitting train set into X and Y\n",
    "X_train = train_set.drop(columns=['Delay (Mins)'])\n",
    "y_train = train_set['Delay (Mins)']\n",
    "# splitting test set into X and Y\n",
    "X_test = test_set.drop(columns=['Delay (Mins)'])\n",
    "y_test = test_set['Delay (Mins)']"
   ]
  },
  {
   "cell_type": "code",
   "execution_count": null,
   "metadata": {},
   "outputs": [],
   "source": [
    "# normalizing 'Min Gap' feature for model separately in test and train set to prevent leak\n",
    "scaler = MinMaxScaler()\n",
    "X_train['Gap (Mins)'] = scaler.fit_transform(X_train['Min Gap'].values.reshape(-1,1))\n",
    "X_test['Gap (Mins)'] = scaler.transform(X_test['Min Gap'].values.reshape(-1,1))\n",
    "X_train.drop(columns=['Min Gap'], inplace=True, axis=1)\n",
    "X_test.drop(columns=['Min Gap'], inplace=True, axis=1)"
   ]
  },
  {
   "cell_type": "code",
   "execution_count": 13,
   "metadata": {},
   "outputs": [
    {
     "data": {
      "text/plain": [
       "\"\\ncv_scores_mean = []\\nfor depth in range(15,30):\\n    clf = RandomForestClassifier(n_estimators=20, random_state=42, n_jobs=-1)\\n    cv_scores = cross_val_score(clf, X_train, y_train, cv=3, scoring='accuracy')\\n    cv_scores_mean.append(cv_scores.mean())\\n\""
      ]
     },
     "execution_count": 13,
     "metadata": {},
     "output_type": "execute_result"
    }
   ],
   "source": [
    "# cross-validation for parameter-tuning.\n",
    "# DID NOT USE because of limits on computational capacity\n",
    "'''\n",
    "cv_scores_mean = []\n",
    "for depth in range(15,30):\n",
    "    clf = RandomForestClassifier(n_estimators=20, random_state=42, n_jobs=-1)\n",
    "    cv_scores = cross_val_score(clf, X_train, y_train, cv=3, scoring='accuracy')\n",
    "    cv_scores_mean.append(cv_scores.mean())\n",
    "'''"
   ]
  },
  {
   "cell_type": "code",
   "execution_count": 14,
   "metadata": {},
   "outputs": [],
   "source": [
    "# training and fitting model. n_estimators = 30 because of computational limits\n",
    "clf = RandomForestClassifier(n_estimators = 30, random_state=42, n_jobs=-1)\n",
    "clf.fit(X_train, y_train)\n",
    "# saving model to pickle file\n",
    "pickle.dump(clf, open(\"model.pkl\", \"wb\"))"
   ]
  },
  {
   "cell_type": "markdown",
   "metadata": {},
   "source": [
    "### Model Evaluation"
   ]
  },
  {
   "cell_type": "code",
   "execution_count": 15,
   "metadata": {},
   "outputs": [
    {
     "data": {
      "text/plain": [
       "0.9999964788986274"
      ]
     },
     "execution_count": 15,
     "metadata": {},
     "output_type": "execute_result"
    }
   ],
   "source": [
    "# checking overfitting of model\n",
    "y_train_pred = clf.predict_proba(X_train)\n",
    "y_train_hat = clf.predict(X_train)\n",
    "roc_auc_score(y_train, y_train_pred, multi_class='ovo')\n",
    "# model overfit - would have adjusted depth through cross-validation \n"
   ]
  },
  {
   "cell_type": "code",
   "execution_count": 16,
   "metadata": {},
   "outputs": [],
   "source": [
    "# testing model on untouched data\n",
    "y_hat = clf.predict(X_test)\n",
    "Y_prob = clf.predict(X_test)"
   ]
  },
  {
   "cell_type": "code",
   "execution_count": 17,
   "metadata": {},
   "outputs": [
    {
     "name": "stdout",
     "output_type": "stream",
     "text": [
      "               precision    recall  f1-score   support\n",
      "\n",
      "     0-5 mins       0.86      0.79      0.82      1123\n",
      " 6-10 minutes       0.91      0.96      0.94      4542\n",
      "10-20 minutes       0.91      0.95      0.93      4719\n",
      "21-40 minutes       0.88      0.84      0.86      1890\n",
      "  40+ minutes       0.81      0.59      0.68      1056\n",
      "\n",
      "     accuracy                           0.90     13330\n",
      "    macro avg       0.87      0.83      0.85     13330\n",
      " weighted avg       0.89      0.90      0.89     13330\n",
      "\n"
     ]
    }
   ],
   "source": [
    "# Evaluating metrics like accuracy, precision, recall and f1-score for all classes\n",
    "print(classification_report(y_test, y_hat, labels = [0,1,2,3,4], target_names=['0-5 mins', '6-10 minutes', '10-20 minutes', '21-40 minutes', '40+ minutes']))"
   ]
  },
  {
   "cell_type": "code",
   "execution_count": 19,
   "metadata": {},
   "outputs": [
    {
     "data": {
      "image/png": "[encoded data removed]",
      "text/plain": [
       "<Figure size 640x480 with 2 Axes>"
      ]
     },
     "metadata": {},
     "output_type": "display_data"
    }
   ],
   "source": [
    "# plotting a confusion matrix\n",
    "cm = confusion_matrix(y_test, y_hat)\n",
    "disp = ConfusionMatrixDisplay.from_predictions(y_test, y_hat, labels=[0,1,2,3,4], display_labels=['0-5 mins', '6-10 minutes', '10-20 minutes', '21-40 minutes', '40+ minutes'], xticks_rotation='vertical')"
   ]
  },
  {
   "cell_type": "markdown",
   "metadata": {},
   "source": [
    "### Next Steps"
   ]
  },
  {
   "cell_type": "markdown",
   "metadata": {},
   "source": [
    "1) Use all the data available ranging from 2014-2022\n",
    "2) Cross-validate model to have better hyperparameters.\n",
    "3) Plot feature importances to get rid of non-influential features for faster prediction in real-time"
   ]
  }
 ],
 "metadata": {
  "kernelspec": {
   "display_name": "Python 3 (ipykernel)",
   "language": "python",
   "name": "python3"
  },
  "language_info": {
   "codemirror_mode": {
    "name": "ipython",
    "version": 3
   },
   "file_extension": ".py",
   "mimetype": "text/x-python",
   "name": "python",
   "nbconvert_exporter": "python",
   "pygments_lexer": "ipython3",
   "version": "3.10.4"
  },
  "vscode": {
   "interpreter": {
    "hash": "aee8b7b246df8f9039afb4144a1f6fd8d2ca17a180786b69acc140d282b71a49"
   }
  }
 },
 "nbformat": 4,
 "nbformat_minor": 2
}
